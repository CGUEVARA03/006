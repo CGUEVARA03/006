{
  "cells": [
    {
      "cell_type": "markdown",
      "metadata": {
        "id": "view-in-github",
        "colab_type": "text"
      },
      "source": [
        "<a href=\"https://colab.research.google.com/github/CGUEVARA03/006/blob/master/introduccion%20a%20python.ipynb\" target=\"_parent\"><img src=\"https://colab.research.google.com/assets/colab-badge.svg\" alt=\"Open In Colab\"/></a>"
      ]
    },
    {
      "cell_type": "code",
      "source": [
        "print(\"Hola Mundo ;D\")\n",
        "print(\"Mi nombre es Carolina\")"
      ],
      "metadata": {
        "id": "mT-LXAngkEK2",
        "outputId": "485759f4-dbfa-4068-f1e3-95bad58f53cc",
        "colab": {
          "base_uri": "https://localhost:8080/"
        }
      },
      "execution_count": 8,
      "outputs": [
        {
          "output_type": "stream",
          "name": "stdout",
          "text": [
            "Hola Mundo ;D\n",
            "Mi nombre es Carolina\n"
          ]
        }
      ]
    },
    {
      "cell_type": "code",
      "source": [
        "nombre = \"Carolina\"\n",
        "print(\"Hola\", nombre)\n",
        "\n",
        "edad = 19\n",
        "print(\"Tu edad es:\", edad)\n"
      ],
      "metadata": {
        "id": "ul58XbxSlS30",
        "outputId": "0d912cc3-57d6-4fec-90ae-1cef4321664d",
        "colab": {
          "base_uri": "https://localhost:8080/"
        }
      },
      "execution_count": 13,
      "outputs": [
        {
          "output_type": "stream",
          "name": "stdout",
          "text": [
            "Hola Carolina\n",
            "Tu edad es: 19\n"
          ]
        }
      ]
    },
    {
      "cell_type": "code",
      "source": [
        "nombre = \"Carolina\"\n",
        "print(\"Tu nombre es: \", nombre, \"Longitud de tu Nombre: \", len(nombre), \"Iniciales: \", nombre[0],nombre[5])\n"
      ],
      "metadata": {
        "id": "apeYX6yimd82",
        "outputId": "48dfc864-0a14-45e0-c94a-7b212aa7f07c",
        "colab": {
          "base_uri": "https://localhost:8080/"
        }
      },
      "execution_count": 16,
      "outputs": [
        {
          "output_type": "stream",
          "name": "stdout",
          "text": [
            "Tu nombre es:  Carolina Longitud de tu Nombre:  8 Iniciales:  C i\n"
          ]
        }
      ]
    }
  ],
  "metadata": {
    "colab": {
      "collapsed_sections": [],
      "name": "Te damos la bienvenida a Colaboratory",
      "provenance": [],
      "include_colab_link": true
    },
    "kernelspec": {
      "display_name": "Python 3",
      "name": "python3"
    }
  },
  "nbformat": 4,
  "nbformat_minor": 0
}